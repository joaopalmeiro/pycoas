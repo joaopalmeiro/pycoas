{
 "cells": [
  {
   "cell_type": "code",
   "execution_count": 1,
   "id": "satellite-gravity",
   "metadata": {},
   "outputs": [],
   "source": [
    "%load_ext autoreload\n",
    "%autoreload 2"
   ]
  },
  {
   "cell_type": "code",
   "execution_count": 2,
   "id": "atlantic-apparel",
   "metadata": {},
   "outputs": [],
   "source": [
    "import pandas as pd\n",
    "\n",
    "import pycoas\n",
    "from pycoas import pd_utils"
   ]
  },
  {
   "cell_type": "code",
   "execution_count": 3,
   "id": "democratic-barrier",
   "metadata": {},
   "outputs": [
    {
     "data": {
      "text/plain": [
       "'0.1.0'"
      ]
     },
     "execution_count": 3,
     "metadata": {},
     "output_type": "execute_result"
    }
   ],
   "source": [
    "pycoas.__version__"
   ]
  },
  {
   "cell_type": "code",
   "execution_count": 4,
   "id": "congressional-sapphire",
   "metadata": {},
   "outputs": [
    {
     "data": {
      "text/html": [
       "<div>\n",
       "<style scoped>\n",
       "    .dataframe tbody tr th:only-of-type {\n",
       "        vertical-align: middle;\n",
       "    }\n",
       "\n",
       "    .dataframe tbody tr th {\n",
       "        vertical-align: top;\n",
       "    }\n",
       "\n",
       "    .dataframe thead th {\n",
       "        text-align: right;\n",
       "    }\n",
       "</style>\n",
       "<table border=\"1\" class=\"dataframe\">\n",
       "  <thead>\n",
       "    <tr style=\"text-align: right;\">\n",
       "      <th></th>\n",
       "      <th>Species</th>\n",
       "      <th>Island</th>\n",
       "      <th>Beak Length (mm)</th>\n",
       "      <th>Beak Depth (mm)</th>\n",
       "      <th>Flipper Length (mm)</th>\n",
       "      <th>Body Mass (g)</th>\n",
       "      <th>Sex</th>\n",
       "    </tr>\n",
       "  </thead>\n",
       "  <tbody>\n",
       "    <tr>\n",
       "      <th>0</th>\n",
       "      <td>Adelie</td>\n",
       "      <td>Torgersen</td>\n",
       "      <td>39.1</td>\n",
       "      <td>18.7</td>\n",
       "      <td>181.0</td>\n",
       "      <td>3750.0</td>\n",
       "      <td>MALE</td>\n",
       "    </tr>\n",
       "    <tr>\n",
       "      <th>1</th>\n",
       "      <td>Adelie</td>\n",
       "      <td>Torgersen</td>\n",
       "      <td>39.5</td>\n",
       "      <td>17.4</td>\n",
       "      <td>186.0</td>\n",
       "      <td>3800.0</td>\n",
       "      <td>FEMALE</td>\n",
       "    </tr>\n",
       "    <tr>\n",
       "      <th>2</th>\n",
       "      <td>Adelie</td>\n",
       "      <td>Torgersen</td>\n",
       "      <td>40.3</td>\n",
       "      <td>18.0</td>\n",
       "      <td>195.0</td>\n",
       "      <td>3250.0</td>\n",
       "      <td>FEMALE</td>\n",
       "    </tr>\n",
       "    <tr>\n",
       "      <th>3</th>\n",
       "      <td>Adelie</td>\n",
       "      <td>Torgersen</td>\n",
       "      <td>NaN</td>\n",
       "      <td>NaN</td>\n",
       "      <td>NaN</td>\n",
       "      <td>NaN</td>\n",
       "      <td>None</td>\n",
       "    </tr>\n",
       "    <tr>\n",
       "      <th>4</th>\n",
       "      <td>Adelie</td>\n",
       "      <td>Torgersen</td>\n",
       "      <td>36.7</td>\n",
       "      <td>19.3</td>\n",
       "      <td>193.0</td>\n",
       "      <td>3450.0</td>\n",
       "      <td>FEMALE</td>\n",
       "    </tr>\n",
       "  </tbody>\n",
       "</table>\n",
       "</div>"
      ],
      "text/plain": [
       "  Species     Island  Beak Length (mm)  Beak Depth (mm)  Flipper Length (mm)  \\\n",
       "0  Adelie  Torgersen              39.1             18.7                181.0   \n",
       "1  Adelie  Torgersen              39.5             17.4                186.0   \n",
       "2  Adelie  Torgersen              40.3             18.0                195.0   \n",
       "3  Adelie  Torgersen               NaN              NaN                  NaN   \n",
       "4  Adelie  Torgersen              36.7             19.3                193.0   \n",
       "\n",
       "   Body Mass (g)     Sex  \n",
       "0         3750.0    MALE  \n",
       "1         3800.0  FEMALE  \n",
       "2         3250.0  FEMALE  \n",
       "3            NaN    None  \n",
       "4         3450.0  FEMALE  "
      ]
     },
     "execution_count": 4,
     "metadata": {},
     "output_type": "execute_result"
    }
   ],
   "source": [
    "df = pd.read_json(\n",
    "    \"https://raw.githubusercontent.com/vega/vega-datasets/master/data/penguins.json\"\n",
    ")\n",
    "df.head()"
   ]
  },
  {
   "cell_type": "code",
   "execution_count": 5,
   "id": "saving-homeless",
   "metadata": {},
   "outputs": [
    {
     "name": "stdout",
     "output_type": "stream",
     "text": [
      "Number of columns: 7\n",
      "Number of object columns: 3\n"
     ]
    },
    {
     "data": {
      "text/html": [
       "<style  type=\"text/css\" >\n",
       "#T_31508_row0_col1,#T_31508_row1_col1,#T_31508_row2_col1{\n",
       "            width:  10em;\n",
       "             height:  80%;\n",
       "            background:  linear-gradient(90deg,lightblue 1.8%, transparent 1.8%);\n",
       "        }#T_31508_row3_col1{\n",
       "            width:  10em;\n",
       "             height:  80%;\n",
       "            background:  linear-gradient(90deg,lightblue 33.5%, transparent 33.5%);\n",
       "        }#T_31508_row4_col1{\n",
       "            width:  10em;\n",
       "             height:  80%;\n",
       "            background:  linear-gradient(90deg,lightblue 48.8%, transparent 48.8%);\n",
       "        }#T_31508_row5_col1{\n",
       "            width:  10em;\n",
       "             height:  80%;\n",
       "            background:  linear-gradient(90deg,lightblue 57.3%, transparent 57.3%);\n",
       "        }#T_31508_row6_col1{\n",
       "            width:  10em;\n",
       "             height:  80%;\n",
       "            background:  linear-gradient(90deg,lightblue 100.0%, transparent 100.0%);\n",
       "        }</style><table id=\"T_31508_\" ><caption>All columns</caption><thead>    <tr>        <th class=\"col_heading level0 col0\" >Column_Name</th>        <th class=\"col_heading level0 col1\" >#_Unique</th>    </tr></thead><tbody>\n",
       "                <tr>\n",
       "                                <td id=\"T_31508_row0_col0\" class=\"data row0 col0\" >Species</td>\n",
       "                        <td id=\"T_31508_row0_col1\" class=\"data row0 col1\" >3</td>\n",
       "            </tr>\n",
       "            <tr>\n",
       "                                <td id=\"T_31508_row1_col0\" class=\"data row1 col0\" >Island</td>\n",
       "                        <td id=\"T_31508_row1_col1\" class=\"data row1 col1\" >3</td>\n",
       "            </tr>\n",
       "            <tr>\n",
       "                                <td id=\"T_31508_row2_col0\" class=\"data row2 col0\" >Sex</td>\n",
       "                        <td id=\"T_31508_row2_col1\" class=\"data row2 col1\" >3</td>\n",
       "            </tr>\n",
       "            <tr>\n",
       "                                <td id=\"T_31508_row3_col0\" class=\"data row3 col0\" >Flipper Length (mm)</td>\n",
       "                        <td id=\"T_31508_row3_col1\" class=\"data row3 col1\" >55</td>\n",
       "            </tr>\n",
       "            <tr>\n",
       "                                <td id=\"T_31508_row4_col0\" class=\"data row4 col0\" >Beak Depth (mm)</td>\n",
       "                        <td id=\"T_31508_row4_col1\" class=\"data row4 col1\" >80</td>\n",
       "            </tr>\n",
       "            <tr>\n",
       "                                <td id=\"T_31508_row5_col0\" class=\"data row5 col0\" >Body Mass (g)</td>\n",
       "                        <td id=\"T_31508_row5_col1\" class=\"data row5 col1\" >94</td>\n",
       "            </tr>\n",
       "            <tr>\n",
       "                                <td id=\"T_31508_row6_col0\" class=\"data row6 col0\" >Beak Length (mm)</td>\n",
       "                        <td id=\"T_31508_row6_col1\" class=\"data row6 col1\" >164</td>\n",
       "            </tr>\n",
       "    </tbody></table>"
      ],
      "text/plain": [
       "<pandas.io.formats.style.Styler at 0x115831340>"
      ]
     },
     "metadata": {},
     "output_type": "display_data"
    },
    {
     "data": {
      "text/html": [
       "<style  type=\"text/css\" >\n",
       "#T_9225d_row0_col1,#T_9225d_row1_col1,#T_9225d_row2_col1{\n",
       "            width:  10em;\n",
       "             height:  80%;\n",
       "            background:  linear-gradient(90deg,lightblue 100.0%, transparent 100.0%);\n",
       "        }</style><table id=\"T_9225d_\" ><caption>Object columns</caption><thead>    <tr>        <th class=\"col_heading level0 col0\" >Column_Name</th>        <th class=\"col_heading level0 col1\" >#_Unique</th>    </tr></thead><tbody>\n",
       "                <tr>\n",
       "                                <td id=\"T_9225d_row0_col0\" class=\"data row0 col0\" >Species</td>\n",
       "                        <td id=\"T_9225d_row0_col1\" class=\"data row0 col1\" >3</td>\n",
       "            </tr>\n",
       "            <tr>\n",
       "                                <td id=\"T_9225d_row1_col0\" class=\"data row1 col0\" >Island</td>\n",
       "                        <td id=\"T_9225d_row1_col1\" class=\"data row1 col1\" >3</td>\n",
       "            </tr>\n",
       "            <tr>\n",
       "                                <td id=\"T_9225d_row2_col0\" class=\"data row2 col0\" >Sex</td>\n",
       "                        <td id=\"T_9225d_row2_col1\" class=\"data row2 col1\" >3</td>\n",
       "            </tr>\n",
       "    </tbody></table>"
      ],
      "text/plain": [
       "<pandas.io.formats.style.Styler at 0x10a4e8070>"
      ]
     },
     "metadata": {},
     "output_type": "display_data"
    }
   ],
   "source": [
    "display(*pd_utils.show_unique_values(df, verbose=True))"
   ]
  },
  {
   "cell_type": "markdown",
   "id": "roman-surface",
   "metadata": {},
   "source": [
    "---"
   ]
  }
 ],
 "metadata": {
  "kernelspec": {
   "display_name": "Python 3",
   "language": "python",
   "name": "python3"
  },
  "language_info": {
   "codemirror_mode": {
    "name": "ipython",
    "version": 3
   },
   "file_extension": ".py",
   "mimetype": "text/x-python",
   "name": "python",
   "nbconvert_exporter": "python",
   "pygments_lexer": "ipython3",
   "version": "3.8.5"
  }
 },
 "nbformat": 4,
 "nbformat_minor": 5
}
